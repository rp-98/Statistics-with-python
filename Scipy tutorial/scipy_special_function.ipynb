{
 "cells": [
  {
   "cell_type": "markdown",
   "metadata": {},
   "source": [
    "**The functions available in the special package are universal functions, which follow broadcasting and \n",
    "automatic array looping.**"
   ]
  },
  {
   "cell_type": "code",
   "execution_count": 3,
   "metadata": {},
   "outputs": [],
   "source": [
    "from scipy import special as sp"
   ]
  },
  {
   "cell_type": "code",
   "execution_count": 4,
   "metadata": {},
   "outputs": [
    {
     "data": {
      "text/plain": [
       "array([1., 2., 4.])"
      ]
     },
     "execution_count": 4,
     "metadata": {},
     "output_type": "execute_result"
    }
   ],
   "source": [
    "#cube root\n",
    "cub_rot=sp.cbrt([1,8,64])\n",
    "cub_rot"
   ]
  },
  {
   "cell_type": "code",
   "execution_count": 5,
   "metadata": {},
   "outputs": [
    {
     "data": {
      "text/plain": [
       "array([2.15443469, 2.08008382, 0.50053277, 6.16224015])"
      ]
     },
     "execution_count": 5,
     "metadata": {},
     "output_type": "execute_result"
    }
   ],
   "source": [
    "sp.cbrt([10, 9, 0.1254, 234])"
   ]
  },
  {
   "cell_type": "code",
   "execution_count": 6,
   "metadata": {},
   "outputs": [
    {
     "name": "stdout",
     "output_type": "stream",
     "text": [
      "[1.e+02 1.e+09]\n"
     ]
    }
   ],
   "source": [
    "#exponential a^b\n",
    "from scipy.special import exp10\n",
    "res = exp10([2, 9])\n",
    "print(res)"
   ]
  },
  {
   "cell_type": "code",
   "execution_count": 7,
   "metadata": {},
   "outputs": [
    {
     "data": {
      "text/plain": [
       "100.0"
      ]
     },
     "execution_count": 7,
     "metadata": {},
     "output_type": "execute_result"
    }
   ],
   "source": [
    "1.e+02   #10^2"
   ]
  },
  {
   "cell_type": "code",
   "execution_count": 9,
   "metadata": {},
   "outputs": [
    {
     "name": "stdout",
     "output_type": "stream",
     "text": [
      "[0.88479687 0.95162582 1.         1.05170918 1.13610167]\n"
     ]
    }
   ],
   "source": [
    "#Relative Error Exponential Function\n",
    "from scipy.special import exprel\n",
    "res = exprel([-0.25, -0.1, 0, 0.1, 0.25])\n",
    "print (res)"
   ]
  },
  {
   "cell_type": "code",
   "execution_count": 10,
   "metadata": {},
   "outputs": [
    {
     "name": "stdout",
     "output_type": "stream",
     "text": [
      "9.45862974442671\n"
     ]
    }
   ],
   "source": [
    "#Log Sum Exponential Function\n",
    "from scipy.special import logsumexp\n",
    "import numpy as np\n",
    "a = np.arange(10)\n",
    "res = logsumexp(a)\n",
    "print (res)"
   ]
  },
  {
   "cell_type": "code",
   "execution_count": 11,
   "metadata": {},
   "outputs": [
    {
     "name": "stdout",
     "output_type": "stream",
     "text": [
      "(0.5671432904097838+0j)\n",
      "(0.9999999999999999+0j)\n"
     ]
    }
   ],
   "source": [
    "from scipy.special import lambertw\n",
    "w = lambertw(1)\n",
    "print(w)\n",
    "print( w * np.exp(w))\n"
   ]
  },
  {
   "cell_type": "code",
   "execution_count": 12,
   "metadata": {},
   "outputs": [],
   "source": [
    "#Permutations & Combinations"
   ]
  },
  {
   "cell_type": "code",
   "execution_count": 19,
   "metadata": {},
   "outputs": [
    {
     "name": "stdout",
     "output_type": "stream",
     "text": [
      "20\n"
     ]
    }
   ],
   "source": [
    "from scipy.special import comb\n",
    "res = comb(4, 3, exact = True,repetition=True)\n",
    "print (res)"
   ]
  },
  {
   "cell_type": "code",
   "execution_count": 17,
   "metadata": {},
   "outputs": [
    {
     "name": "stdout",
     "output_type": "stream",
     "text": [
      "24\n"
     ]
    }
   ],
   "source": [
    "from scipy.special import perm\n",
    "res = perm(4, 3, exact = True)\n",
    "print (res)"
   ]
  },
  {
   "cell_type": "code",
   "execution_count": 18,
   "metadata": {},
   "outputs": [
    {
     "name": "stdout",
     "output_type": "stream",
     "text": [
      "Help on function comb in module scipy.special.basic:\n",
      "\n",
      "comb(N, k, exact=False, repetition=False)\n",
      "    The number of combinations of N things taken k at a time.\n",
      "    \n",
      "    This is often expressed as \"N choose k\".\n",
      "    \n",
      "    Parameters\n",
      "    ----------\n",
      "    N : int, ndarray\n",
      "        Number of things.\n",
      "    k : int, ndarray\n",
      "        Number of elements taken.\n",
      "    exact : bool, optional\n",
      "        If `exact` is False, then floating point precision is used, otherwise\n",
      "        exact long integer is computed.\n",
      "    repetition : bool, optional\n",
      "        If `repetition` is True, then the number of combinations with\n",
      "        repetition is computed.\n",
      "    \n",
      "    Returns\n",
      "    -------\n",
      "    val : int, float, ndarray\n",
      "        The total number of combinations.\n",
      "    \n",
      "    See Also\n",
      "    --------\n",
      "    binom : Binomial coefficient ufunc\n",
      "    \n",
      "    Notes\n",
      "    -----\n",
      "    - Array arguments accepted only for exact=False case.\n",
      "    - If k > N, N < 0, or k < 0, then a 0 is returned.\n",
      "    \n",
      "    Examples\n",
      "    --------\n",
      "    >>> from scipy.special import comb\n",
      "    >>> k = np.array([3, 4])\n",
      "    >>> n = np.array([10, 10])\n",
      "    >>> comb(n, k, exact=False)\n",
      "    array([ 120.,  210.])\n",
      "    >>> comb(10, 3, exact=True)\n",
      "    120L\n",
      "    >>> comb(10, 3, exact=True, repetition=True)\n",
      "    220L\n",
      "\n"
     ]
    }
   ],
   "source": [
    "help(comb)"
   ]
  },
  {
   "cell_type": "code",
   "execution_count": 25,
   "metadata": {},
   "outputs": [
    {
     "data": {
      "text/plain": [
       "20.0"
      ]
     },
     "execution_count": 25,
     "metadata": {},
     "output_type": "execute_result"
    }
   ],
   "source": [
    "comb(4,3,repetition =True)"
   ]
  },
  {
   "cell_type": "code",
   "execution_count": 27,
   "metadata": {},
   "outputs": [
    {
     "data": {
      "text/plain": [
       "10.0"
      ]
     },
     "execution_count": 27,
     "metadata": {},
     "output_type": "execute_result"
    }
   ],
   "source": [
    "perm(10,1)"
   ]
  },
  {
   "cell_type": "code",
   "execution_count": 29,
   "metadata": {},
   "outputs": [
    {
     "name": "stdout",
     "output_type": "stream",
     "text": [
      "[        inf  1.77245385  1.         24.        ]\n"
     ]
    }
   ],
   "source": [
    "from scipy.special import gamma\n",
    "res = gamma([0, 0.5, 1, 5])\n",
    "print (res)"
   ]
  },
  {
   "cell_type": "code",
   "execution_count": null,
   "metadata": {},
   "outputs": [],
   "source": []
  }
 ],
 "metadata": {
  "kernelspec": {
   "display_name": "Python 3",
   "language": "python",
   "name": "python3"
  },
  "language_info": {
   "codemirror_mode": {
    "name": "ipython",
    "version": 3
   },
   "file_extension": ".py",
   "mimetype": "text/x-python",
   "name": "python",
   "nbconvert_exporter": "python",
   "pygments_lexer": "ipython3",
   "version": "3.7.3"
  }
 },
 "nbformat": 4,
 "nbformat_minor": 2
}
